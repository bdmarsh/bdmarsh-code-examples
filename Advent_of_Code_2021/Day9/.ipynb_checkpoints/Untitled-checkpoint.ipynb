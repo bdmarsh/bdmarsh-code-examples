{
 "cells": [
  {
   "cell_type": "code",
   "execution_count": 1,
   "id": "47d6cf32",
   "metadata": {},
   "outputs": [],
   "source": [
    "#import packages\n",
    "\n",
    "import numpy as np"
   ]
  },
  {
   "cell_type": "code",
   "execution_count": 3,
   "id": "944db87c",
   "metadata": {},
   "outputs": [],
   "source": [
    "list2d = []\n",
    "\n",
    "with open('Day9_Input.txt', 'r') as f:\n",
    "    for line in f.readlines():\n",
    "        list2d.append(list(line.rstrip('\\n')))"
   ]
  },
  {
   "cell_type": "code",
   "execution_count": 6,
   "id": "a36d540e",
   "metadata": {},
   "outputs": [],
   "source": [
    "arr = np.array(list2d, dtype='int32')"
   ]
  },
  {
   "cell_type": "code",
   "execution_count": 10,
   "id": "eb975b0b",
   "metadata": {},
   "outputs": [],
   "source": [
    "shape_min = 0\n",
    "shape_max = arr.shape[0]"
   ]
  },
  {
   "cell_type": "code",
   "execution_count": null,
   "id": "f28afdb0",
   "metadata": {},
   "outputs": [],
   "source": []
  },
  {
   "cell_type": "code",
   "execution_count": 9,
   "id": "728a00f1",
   "metadata": {},
   "outputs": [
    {
     "data": {
      "text/plain": [
       "(100, 100)"
      ]
     },
     "execution_count": 9,
     "metadata": {},
     "output_type": "execute_result"
    }
   ],
   "source": [
    "arr.shape"
   ]
  }
 ],
 "metadata": {
  "kernelspec": {
   "display_name": "Python 3 (ipykernel)",
   "language": "python",
   "name": "python3"
  },
  "language_info": {
   "codemirror_mode": {
    "name": "ipython",
    "version": 3
   },
   "file_extension": ".py",
   "mimetype": "text/x-python",
   "name": "python",
   "nbconvert_exporter": "python",
   "pygments_lexer": "ipython3",
   "version": "3.9.7"
  }
 },
 "nbformat": 4,
 "nbformat_minor": 5
}
