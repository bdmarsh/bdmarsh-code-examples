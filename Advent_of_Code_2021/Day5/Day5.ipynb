{
 "cells": [
  {
   "cell_type": "markdown",
   "id": "49bb4291",
   "metadata": {},
   "source": [
    "# 5.1 Count Points with at Least 2 Intersecting Lines"
   ]
  },
  {
   "cell_type": "code",
   "execution_count": 1,
   "id": "1c53b0b0",
   "metadata": {},
   "outputs": [],
   "source": [
    "#import packages\n",
    "\n",
    "import pandas as pd\n",
    "import numpy as np"
   ]
  },
  {
   "cell_type": "code",
   "execution_count": 8,
   "id": "efbf2dc2",
   "metadata": {},
   "outputs": [],
   "source": [
    "#read in the input\n",
    "lines = pd.read_csv('Day5_Input.txt', sep='->', header=None, engine='python')"
   ]
  },
  {
   "cell_type": "code",
   "execution_count": 9,
   "id": "9d4dfa84",
   "metadata": {},
   "outputs": [],
   "source": [
    "#split into x and y components, drop the origial columns, and convert to numbers\n",
    "lines[['x1','y1']] = lines[0].str.split(',', expand=True)\n",
    "lines[['x2', 'y2']] = lines[1].str.split(',', expand=True)\n",
    "lines = lines.drop([0,1], axis=1)\n",
    "lines = lines.apply(pd.to_numeric, axis=1)"
   ]
  },
  {
   "cell_type": "code",
   "execution_count": 34,
   "id": "7bd58deb",
   "metadata": {},
   "outputs": [
    {
     "data": {
      "text/plain": [
       "6397"
      ]
     },
     "execution_count": 34,
     "metadata": {},
     "output_type": "execute_result"
    }
   ],
   "source": [
    "#create an array of zeros\n",
    "arr = np.zeros(shape=(1000,1000))\n",
    "\n",
    "#set starting and ending coordinates as well as mins and maxs\n",
    "for i in range(len(lines)):\n",
    "    x_start = lines.iloc[i][0]\n",
    "    y_start = lines.iloc[i][1]\n",
    "    x_end = lines.iloc[i][2]\n",
    "    y_end = lines.iloc[i][3]\n",
    "    \n",
    "    x_min = min(x_start, x_end)\n",
    "    x_max = max(x_start, x_end)\n",
    "    y_min = min(y_start, y_end)\n",
    "    y_max = max(y_start, y_end)\n",
    "    \n",
    "    #iterate through to add 1 to each point the line passes through\n",
    "    if x_start == x_end:\n",
    "            for j in range(abs(y_end - y_start)+1):\n",
    "                arr[x_min][y_min + j] = arr[x_min][y_min + j] + 1\n",
    "\n",
    "    elif y_start == y_end:\n",
    "            for j in range(abs(x_end - x_start)+1):\n",
    "                arr[x_min + j][y_min] = arr[x_min + j][y_min] + 1  \n",
    "    \n",
    "    else:\n",
    "        continue\n",
    "        \n",
    "#flatten array and count number of elements greater than 2\n",
    "\n",
    "list=arr.flatten()\n",
    "counter = 0\n",
    "\n",
    "for element in list:\n",
    "    if element > 1:\n",
    "        counter += 1\n",
    "        \n",
    "#display answer\n",
    "counter"
   ]
  },
  {
   "cell_type": "markdown",
   "id": "be505cc2",
   "metadata": {},
   "source": [
    "# 4.2 Find Number of Point with at Least 2 Intersecting Lines (Includes Diagonals)"
   ]
  },
  {
   "cell_type": "code",
   "execution_count": 30,
   "id": "581ec8bc",
   "metadata": {},
   "outputs": [
    {
     "data": {
      "text/plain": [
       "22335"
      ]
     },
     "execution_count": 30,
     "metadata": {},
     "output_type": "execute_result"
    }
   ],
   "source": [
    "#create an array of zeros\n",
    "arr = np.zeros(shape=(1000,1000))\n",
    "\n",
    "#set starting and ending coordinates as well as mins and maxs\n",
    "for i in range(len(lines)):\n",
    "    x_start = lines.iloc[i][0]\n",
    "    y_start = lines.iloc[i][1]\n",
    "    x_end = lines.iloc[i][2]\n",
    "    y_end = lines.iloc[i][3]\n",
    "    \n",
    "    x_min = min(x_start, x_end)\n",
    "    x_max = max(x_start, x_end)\n",
    "    y_min = min(y_start, y_end)\n",
    "    y_max = max(y_start, y_end)\n",
    "    \n",
    "    #iterate through to add 1 to each point the line passes through\n",
    "    if x_start == x_end:\n",
    "            for j in range(abs(y_end - y_start)+1):\n",
    "                arr[x_min][y_min + j] = arr[x_min][y_min + j] + 1\n",
    "\n",
    "    elif y_start == y_end:\n",
    "            for j in range(abs(x_end - x_start)+1):\n",
    "                arr[x_min + j][y_min] = arr[x_min + j][y_min] + 1 \n",
    "\n",
    "    else:\n",
    "        #case for bottom left to top right\n",
    "        if (x_start < x_end) and (y_start > y_end):\n",
    "            for j in range(abs(x_end - x_start)+1):\n",
    "                arr[x_start + j][y_start - j] = arr[x_start + j][y_start - j] + 1\n",
    "        \n",
    "        #case for top left to bottom right\n",
    "        elif (x_start < x_end) and (y_start < y_end):\n",
    "            for j in range(abs(x_end - x_start)+1):\n",
    "                arr[x_start + j][y_start + j] = arr[x_start + j][y_start + j] + 1\n",
    "        \n",
    "        #case for top right to bottom left\n",
    "        elif (x_start > x_end) and (y_start < y_end):\n",
    "            for j in range(abs(x_end - x_start)+1):\n",
    "                arr[x_start - j][y_start + j] = arr[x_start - j][y_start + j] + 1\n",
    "        \n",
    "        #case for bottom right to top left\n",
    "        else:\n",
    "            for j in range(abs(x_end - x_start)+1):\n",
    "                arr[x_start - j][y_start - j] = arr[x_start - j][y_start - j] + 1\n",
    "\n",
    "#flatten array and count number of elements greater than 2\n",
    "\n",
    "list=arr.flatten()\n",
    "counter = 0\n",
    "\n",
    "for element in list:\n",
    "    if element > 1:\n",
    "        counter += 1\n",
    "\n",
    "#display answer\n",
    "counter"
   ]
  }
 ],
 "metadata": {
  "kernelspec": {
   "display_name": "Python 3 (ipykernel)",
   "language": "python",
   "name": "python3"
  },
  "language_info": {
   "codemirror_mode": {
    "name": "ipython",
    "version": 3
   },
   "file_extension": ".py",
   "mimetype": "text/x-python",
   "name": "python",
   "nbconvert_exporter": "python",
   "pygments_lexer": "ipython3",
   "version": "3.9.7"
  }
 },
 "nbformat": 4,
 "nbformat_minor": 5
}
