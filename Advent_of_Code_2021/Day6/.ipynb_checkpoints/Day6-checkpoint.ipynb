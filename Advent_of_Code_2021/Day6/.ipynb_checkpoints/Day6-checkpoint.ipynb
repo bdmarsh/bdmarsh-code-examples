{
 "cells": [
  {
   "cell_type": "markdown",
   "id": "6415872b",
   "metadata": {},
   "source": [
    "# 6.1 Find Number of Lanternfish"
   ]
  },
  {
   "cell_type": "code",
   "execution_count": 6,
   "id": "c8427055",
   "metadata": {},
   "outputs": [],
   "source": [
    "#import necessary packages\n",
    "import pandas as pd\n",
    "import numpy as np"
   ]
  },
  {
   "cell_type": "code",
   "execution_count": 98,
   "id": "849d06ae",
   "metadata": {},
   "outputs": [],
   "source": [
    "#read the data and convert it to a list\n",
    "lines = pd.read_csv('Day6_Input.txt', sep=',', header=None, dtype='int32')\n",
    "lines = lines.iloc[0].tolist()"
   ]
  },
  {
   "cell_type": "code",
   "execution_count": 79,
   "id": "b5cd29dd",
   "metadata": {},
   "outputs": [
    {
     "data": {
      "text/plain": [
       "393019"
      ]
     },
     "execution_count": 79,
     "metadata": {},
     "output_type": "execute_result"
    }
   ],
   "source": [
    "#create loop to track fish population over time\n",
    "\n",
    "#initialize state\n",
    "i = 0\n",
    "\n",
    "#loop through 80 days\n",
    "while i < 80:\n",
    "    i += 1\n",
    "    for j in range(len(lines)):\n",
    "        if lines[j] == 0:  #in case a fish reproduces\n",
    "            lines[j] = 6\n",
    "            lines.append(8)\n",
    "        else:              #in case a fish does not reproduce\n",
    "            lines[j] = lines[j] - 1\n",
    "            \n",
    "#output the answer\n",
    "len(lines)\n",
    "    "
   ]
  },
  {
   "cell_type": "markdown",
   "id": "f6d72588",
   "metadata": {},
   "source": [
    "# 6.2 Lanternfish After 256 Days"
   ]
  },
  {
   "cell_type": "code",
   "execution_count": 104,
   "id": "f284276a",
   "metadata": {},
   "outputs": [
    {
     "data": {
      "text/plain": [
       "1757714216975"
      ]
     },
     "execution_count": 104,
     "metadata": {},
     "output_type": "execute_result"
    }
   ],
   "source": [
    "#above method will run me out of memory\n",
    "\n",
    "days=256\n",
    "fish_per_timer = [lines.count(timer) for timer in range(9)]\n",
    "for day in range(days):\n",
    "    zeroes = fish_per_timer[0]  # count fish on 0 timer\n",
    "    fish_per_timer[:-1] = fish_per_timer[1:]  # decrement fish timer\n",
    "    fish_per_timer[6] += zeroes  # respawn 0 timer fish\n",
    "    fish_per_timer[8] = zeroes  # new fish\n",
    "sum(fish_per_timer)"
   ]
  }
 ],
 "metadata": {
  "kernelspec": {
   "display_name": "Python 3 (ipykernel)",
   "language": "python",
   "name": "python3"
  },
  "language_info": {
   "codemirror_mode": {
    "name": "ipython",
    "version": 3
   },
   "file_extension": ".py",
   "mimetype": "text/x-python",
   "name": "python",
   "nbconvert_exporter": "python",
   "pygments_lexer": "ipython3",
   "version": "3.9.7"
  }
 },
 "nbformat": 4,
 "nbformat_minor": 5
}
