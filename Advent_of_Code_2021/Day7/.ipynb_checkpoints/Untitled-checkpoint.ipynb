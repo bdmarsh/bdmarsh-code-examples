{
 "cells": [
  {
   "cell_type": "code",
   "execution_count": null,
   "id": "29b26b5a",
   "metadata": {},
   "outputs": [],
   "source": [
    "import pandas as pd\n",
    "import numpy as np\n",
    "from scipy.optimize import minimize_scalr"
   ]
  },
  {
   "cell_type": "code",
   "execution_count": null,
   "id": "d9ccb651",
   "metadata": {},
   "outputs": [],
   "source": [
    "input = [16,1,2,0,4,2,7,1,2,14]"
   ]
  },
  {
   "cell_type": "code",
   "execution_count": null,
   "id": "d33658aa",
   "metadata": {},
   "outputs": [],
   "source": [
    "def f(x)\n",
    "    return"
   ]
  },
  {
   "cell_type": "code",
   "execution_count": null,
   "id": "9a9d8f6d",
   "metadata": {},
   "outputs": [],
   "source": []
  }
 ],
 "metadata": {
  "kernelspec": {
   "display_name": "Python 3 (ipykernel)",
   "language": "python",
   "name": "python3"
  },
  "language_info": {
   "codemirror_mode": {
    "name": "ipython",
    "version": 3
   },
   "file_extension": ".py",
   "mimetype": "text/x-python",
   "name": "python",
   "nbconvert_exporter": "python",
   "pygments_lexer": "ipython3",
   "version": "3.9.7"
  }
 },
 "nbformat": 4,
 "nbformat_minor": 5
}
