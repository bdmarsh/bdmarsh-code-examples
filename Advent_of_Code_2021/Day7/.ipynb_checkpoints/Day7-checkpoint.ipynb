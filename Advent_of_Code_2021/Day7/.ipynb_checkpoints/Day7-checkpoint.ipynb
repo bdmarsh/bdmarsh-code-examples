{
 "cells": [
  {
   "cell_type": "markdown",
   "id": "b52b4b8d",
   "metadata": {},
   "source": [
    "# 7.1 Find Horizontal Position with Cheapest Fuel"
   ]
  },
  {
   "cell_type": "code",
   "execution_count": 82,
   "id": "6ee791bf",
   "metadata": {},
   "outputs": [],
   "source": [
    "#import necessary packages\n",
    "import pandas as pd\n",
    "import numpy as np"
   ]
  },
  {
   "cell_type": "code",
   "execution_count": 168,
   "id": "cc8d73b9",
   "metadata": {},
   "outputs": [],
   "source": [
    "#read in the positions and convert to list for easy iteration\n",
    "input = pd.read_csv('Day7_Input.txt', header=None, dtype='int32')\n",
    "input = input.values.tolist()[0]"
   ]
  },
  {
   "cell_type": "code",
   "execution_count": 170,
   "id": "e80751e1",
   "metadata": {},
   "outputs": [],
   "source": [
    "#function to calculate fuel consumption\n",
    "def fuel_consumption(position, input=input):\n",
    "    diff = [abs(value - position) for value in input]\n",
    "    return np.sum(diff)\n",
    "\n",
    "#function to find the least amount of fuel used\n",
    "def least_fuel(input=input):\n",
    "    fuel = []\n",
    "    min_position = min(input)\n",
    "    max_position = max(input)\n",
    "    for position in range(min_position, max_position):\n",
    "        fuel.append(fuel_consumption(position, input))\n",
    "    return(min(fuel))"
   ]
  },
  {
   "cell_type": "code",
   "execution_count": 171,
   "id": "85f5b182",
   "metadata": {},
   "outputs": [
    {
     "data": {
      "text/plain": [
       "337833"
      ]
     },
     "execution_count": 171,
     "metadata": {},
     "output_type": "execute_result"
    }
   ],
   "source": [
    "#answer\n",
    "least_fuel()"
   ]
  },
  {
   "cell_type": "markdown",
   "id": "6abecaf8",
   "metadata": {},
   "source": [
    "# 7.2 Find Horiztonal Position Using Gauss Sum"
   ]
  },
  {
   "cell_type": "code",
   "execution_count": 174,
   "id": "92627c88",
   "metadata": {},
   "outputs": [],
   "source": [
    "\n",
    "#function to calculate fuel consumption using gaussian sum\n",
    "def fuel_consumption_gauss(position, input=input):\n",
    "    diff = [(abs(value - position)*(abs(value - position) + 1))/2 for value in input]\n",
    "    return np.sum(diff)\n",
    "\n",
    "#function to find the least amount of fuel used\n",
    "def least_fuel(input=input):\n",
    "    fuel = []\n",
    "    min_position = min(input)\n",
    "    max_position = max(input)\n",
    "    for position in range(min_position, max_position):\n",
    "        fuel.append(fuel_consumption_gauss(position, input))\n",
    "    return(min(fuel))"
   ]
  },
  {
   "cell_type": "code",
   "execution_count": 175,
   "id": "7cdaa2a2",
   "metadata": {},
   "outputs": [
    {
     "data": {
      "text/plain": [
       "96678050.0"
      ]
     },
     "execution_count": 175,
     "metadata": {},
     "output_type": "execute_result"
    }
   ],
   "source": [
    "#answer\n",
    "least_fuel()"
   ]
  }
 ],
 "metadata": {
  "kernelspec": {
   "display_name": "Python 3 (ipykernel)",
   "language": "python",
   "name": "python3"
  },
  "language_info": {
   "codemirror_mode": {
    "name": "ipython",
    "version": 3
   },
   "file_extension": ".py",
   "mimetype": "text/x-python",
   "name": "python",
   "nbconvert_exporter": "python",
   "pygments_lexer": "ipython3",
   "version": "3.9.7"
  }
 },
 "nbformat": 4,
 "nbformat_minor": 5
}
