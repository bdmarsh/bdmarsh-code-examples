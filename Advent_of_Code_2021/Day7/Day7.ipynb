{
 "cells": [
  {
   "cell_type": "code",
   "execution_count": 1,
   "id": "a7860544",
   "metadata": {},
   "outputs": [],
   "source": [
    "#import necessary packages\n",
    "import pandas as pd\n",
    "import numpy as np"
   ]
  },
  {
   "cell_type": "code",
   "execution_count": 76,
   "id": "deed3e71",
   "metadata": {},
   "outputs": [],
   "source": [
    "#read in the positions\n",
    "input = pd.read_csv('Day7_Input.txt', header=None, dtype='int32')"
   ]
  },
  {
   "cell_type": "code",
   "execution_count": 79,
   "id": "900f48bc",
   "metadata": {},
   "outputs": [],
   "source": [
    "#function to calculate fuel consumption\n",
    "def fuel_consumption(position, input):\n",
    "    diff = [abs(value - position) for value in input]\n",
    "    return np.sum(diff)\n",
    "\n",
    "#function to find the least amount of fuel used\n",
    "def least_fuel(input):\n",
    "    fuel = []\n",
    "    min_position = min(input)\n",
    "    max_position = max(input)\n",
    "    for position in range(min_position, max_position):\n",
    "        fuel.append(fuel_consumption(position, input))\n",
    "    return(min(fuel))"
   ]
  },
  {
   "cell_type": "code",
   "execution_count": 81,
   "id": "fdff3615",
   "metadata": {},
   "outputs": [
    {
     "data": {
      "text/plain": [
       "250000"
      ]
     },
     "execution_count": 81,
     "metadata": {},
     "output_type": "execute_result"
    }
   ],
   "source": [
    "#answer\n",
    "least_fuel(input)"
   ]
  },
  {
   "cell_type": "code",
   "execution_count": 60,
   "id": "3d25e6bd",
   "metadata": {},
   "outputs": [
    {
     "name": "stdout",
     "output_type": "stream",
     "text": [
      "337833\n"
     ]
    }
   ],
   "source": [
    "import sys\n",
    "\n",
    "crab_pos = open(\"Day7_Input.txt\", \"r\").read().split(\",\")\n",
    "crab_pos = [int(x) for x in crab_pos]\n",
    "fuel = 0\n",
    "min_fuel = sys.maxsize\n",
    "\n",
    "for i in range(max(crab_pos)):\n",
    "    for u in crab_pos:\n",
    "        fuel += max(u, i) - min(u, i)\n",
    "    if min_fuel > fuel:\n",
    "        min_fuel = fuel\n",
    "    fuel = 0\n",
    "\n",
    "print(min_fuel)"
   ]
  }
 ],
 "metadata": {
  "kernelspec": {
   "display_name": "Python 3 (ipykernel)",
   "language": "python",
   "name": "python3"
  },
  "language_info": {
   "codemirror_mode": {
    "name": "ipython",
    "version": 3
   },
   "file_extension": ".py",
   "mimetype": "text/x-python",
   "name": "python",
   "nbconvert_exporter": "python",
   "pygments_lexer": "ipython3",
   "version": "3.9.7"
  }
 },
 "nbformat": 4,
 "nbformat_minor": 5
}
