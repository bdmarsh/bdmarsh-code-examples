{
 "cells": [
  {
   "cell_type": "code",
   "execution_count": 1,
   "id": "ab848e78",
   "metadata": {},
   "outputs": [],
   "source": [
    "#import necessary packages\n",
    "import pandas as pd\n",
    "import numpy as np"
   ]
  },
  {
   "cell_type": "code",
   "execution_count": 42,
   "id": "32295b34",
   "metadata": {},
   "outputs": [],
   "source": [
    "#read in the positions\n",
    "position = pd.read_csv('Day7_Input.txt', header=None, dtype='int32')"
   ]
  },
  {
   "cell_type": "code",
   "execution_count": 52,
   "id": "32c12235",
   "metadata": {},
   "outputs": [],
   "source": [
    "#\n",
    "def fuel_consumption(position, input=input):\n",
    "    diff = [abs(value - position) for value in input]\n",
    "    return np.sum(diff)\n",
    "\n",
    "def least_fuel(input=input):\n",
    "    fuel = []\n",
    "    min_position = min(input)\n",
    "    max_position = max(input)\n",
    "    for position in range(min_position, max_position):\n",
    "        fuel.append(fuel_consumption(position, input))\n",
    "    return(min(fuel))"
   ]
  },
  {
   "cell_type": "code",
   "execution_count": 53,
   "id": "771b3d30",
   "metadata": {},
   "outputs": [
    {
     "data": {
      "text/plain": [
       "250000"
      ]
     },
     "execution_count": 53,
     "metadata": {},
     "output_type": "execute_result"
    }
   ],
   "source": [
    "least_fuel()"
   ]
  }
 ],
 "metadata": {
  "kernelspec": {
   "display_name": "Python 3 (ipykernel)",
   "language": "python",
   "name": "python3"
  },
  "language_info": {
   "codemirror_mode": {
    "name": "ipython",
    "version": 3
   },
   "file_extension": ".py",
   "mimetype": "text/x-python",
   "name": "python",
   "nbconvert_exporter": "python",
   "pygments_lexer": "ipython3",
   "version": "3.9.7"
  }
 },
 "nbformat": 4,
 "nbformat_minor": 5
}
