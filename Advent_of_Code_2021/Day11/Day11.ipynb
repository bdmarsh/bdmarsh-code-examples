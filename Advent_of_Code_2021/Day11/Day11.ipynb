{
 "cells": [
  {
   "cell_type": "markdown",
   "id": "1d832cc4",
   "metadata": {},
   "source": [
    "# 11.1 Count Number of Flashes"
   ]
  },
  {
   "cell_type": "code",
   "execution_count": 152,
   "id": "c83a88d9",
   "metadata": {},
   "outputs": [],
   "source": [
    "#import packages\n",
    "\n",
    "import numpy as np"
   ]
  },
  {
   "cell_type": "code",
   "execution_count": 164,
   "id": "62213bf8",
   "metadata": {},
   "outputs": [],
   "source": [
    "#read in data\n",
    "list2d = []\n",
    "\n",
    "with open('Day11_Input.txt', 'r') as f:\n",
    "    for line in f.readlines():\n",
    "        list2d.append(list(line.rstrip('\\n')))\n",
    "arr_main = np.array(list2d, dtype='int32') #convert list ot array"
   ]
  },
  {
   "cell_type": "code",
   "execution_count": 154,
   "id": "314f8dab",
   "metadata": {},
   "outputs": [],
   "source": [
    "#adjacent coordinates to iterate though neighbors\n",
    "adj = {(0,-1), (-1,-1), (-1,0), (-1,1), (0,1), (1,1), (1,0), (1,-1)}"
   ]
  },
  {
   "cell_type": "code",
   "execution_count": 155,
   "id": "05d94241",
   "metadata": {},
   "outputs": [
    {
     "data": {
      "text/plain": [
       "1652"
      ]
     },
     "execution_count": 155,
     "metadata": {},
     "output_type": "execute_result"
    }
   ],
   "source": [
    "#start to count flashes\n",
    "\n",
    "#initialize parameters and copy data\n",
    "counter = 0\n",
    "steps = 100\n",
    "arr = arr_main.copy()\n",
    "\n",
    "#iterate though array elements; >9 flashes and adds to neighbors\n",
    "for step in range(steps):\n",
    "    for i in range(arr.shape[0]):\n",
    "        for j in range(arr.shape[1]):\n",
    "            arr[i][j] += 1\n",
    "    while np.any(arr > 9):\n",
    "        for i in range(arr.shape[0]):\n",
    "            for j in range(arr.shape[0]):\n",
    "                if arr[i][j] > 9:\n",
    "                    counter += 1\n",
    "                    arr[i][j] = -1000 #set to a value to not flash multiple times\n",
    "                    for x, y in adj: #iterate through adjacent neighbors, not going out of bounds\n",
    "                        if i + x < 0 or i + x > arr.shape[0]-1 or j + y < 0 or j + y > arr.shape[1]-1:\n",
    "                            continue\n",
    "                        if arr[i+x][j+y] < 0:\n",
    "                            continue\n",
    "                        else:\n",
    "                            arr[i+x][j+y] += 1\n",
    "    arr = np.where(arr < 0, 0, arr) #reset flashes to zero\n",
    "\n",
    "#view the answer\n",
    "counter"
   ]
  },
  {
   "cell_type": "markdown",
   "id": "d5864f52",
   "metadata": {},
   "source": [
    "# 11.2 First Time Flashes Synchronize"
   ]
  },
  {
   "cell_type": "code",
   "execution_count": 165,
   "id": "8fa75492",
   "metadata": {},
   "outputs": [
    {
     "name": "stdout",
     "output_type": "stream",
     "text": [
      "This is step 219, so the real step is 220\n"
     ]
    }
   ],
   "source": [
    "#start to count flashes\n",
    "\n",
    "#initialize parameters and copy data\n",
    "synch = False\n",
    "steps = 1000\n",
    "arr = arr_main.copy()\n",
    "\n",
    "#iterate though array elements; >9 flashes and adds to neighbors\n",
    "\n",
    "\n",
    "for step in range(steps):\n",
    "    for i in range(arr.shape[0]):\n",
    "        for j in range(arr.shape[1]):\n",
    "            arr[i][j] += 1\n",
    "    while np.any(arr > 9):\n",
    "        for i in range(arr.shape[0]):\n",
    "            for j in range(arr.shape[0]):\n",
    "                if arr[i][j] > 9:\n",
    "                    counter += 1\n",
    "                    arr[i][j] = -1000 #set to a value to not flash multiple times\n",
    "                    for x, y in adj: #iterate through adjacent neighbors, not going out of bounds\n",
    "                        if i + x < 0 or i + x > arr.shape[0]-1 or j + y < 0 or j + y > arr.shape[1]-1:\n",
    "                            continue\n",
    "                        if arr[i+x][j+y] < 0:\n",
    "                            continue\n",
    "                        else:\n",
    "                            arr[i+x][j+y] += 1\n",
    "    arr = np.where(arr < 0, 0, arr) #reset flashes to zero\n",
    "    \n",
    "    #the only thing we need to add is whether the whole array reset to 0\n",
    "    if np.all(arr==0):\n",
    "        print(f'This is step {step}, so the real step is {step+1}') #real step is step + 1\n",
    "        break"
   ]
  }
 ],
 "metadata": {
  "kernelspec": {
   "display_name": "Python 3 (ipykernel)",
   "language": "python",
   "name": "python3"
  },
  "language_info": {
   "codemirror_mode": {
    "name": "ipython",
    "version": 3
   },
   "file_extension": ".py",
   "mimetype": "text/x-python",
   "name": "python",
   "nbconvert_exporter": "python",
   "pygments_lexer": "ipython3",
   "version": "3.9.7"
  }
 },
 "nbformat": 4,
 "nbformat_minor": 5
}
