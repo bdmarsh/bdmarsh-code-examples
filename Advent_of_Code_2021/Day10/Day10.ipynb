{
 "cells": [
  {
   "cell_type": "markdown",
   "id": "1774077e",
   "metadata": {},
   "source": [
    "# 10.1 Find Corrupted Lines"
   ]
  },
  {
   "cell_type": "code",
   "execution_count": 1,
   "id": "9294ea21",
   "metadata": {},
   "outputs": [],
   "source": [
    "#import packages\n",
    "\n",
    "import pandas as pd\n",
    "import numpy as np"
   ]
  },
  {
   "cell_type": "code",
   "execution_count": 101,
   "id": "0953e72e",
   "metadata": {},
   "outputs": [],
   "source": [
    "#read in the data\n",
    "with open('Day10_Input.txt') as f:\n",
    "    data = f.read().splitlines()"
   ]
  },
  {
   "cell_type": "code",
   "execution_count": 52,
   "id": "406495e3",
   "metadata": {},
   "outputs": [],
   "source": [
    "#define dictionaries\n",
    "dictionary = {'(':')', '[':']', '{':'}', '<':'>'} #dictionary of symbols\n",
    "points = {')':3, ']':57, '}':1197, '>':25137} #points for corrupt lines"
   ]
  },
  {
   "cell_type": "code",
   "execution_count": 44,
   "id": "8700d0c2",
   "metadata": {},
   "outputs": [
    {
     "data": {
      "text/plain": [
       "339477"
      ]
     },
     "execution_count": 44,
     "metadata": {},
     "output_type": "execute_result"
    }
   ],
   "source": [
    "#search for corrupted lines\n",
    "total = 0 #initialize total\n",
    "\n",
    "#loop through lines and symbols\n",
    "for lines in data:\n",
    "    need = [] #list to track needed closures\n",
    "    for symbol in lines:\n",
    "        if symbol in dictionary.keys():\n",
    "            need.append(dictionary[symbol]) #add to need if the opening is found\n",
    "        elif symbol != need.pop(-1): #pop off if closed symbol is found, add points otherwise\n",
    "            total += points[symbol]\n",
    "#view the answer          \n",
    "total"
   ]
  },
  {
   "cell_type": "markdown",
   "id": "9e2b43d5",
   "metadata": {},
   "source": [
    "# 10.2 Find Median of Incomplete Lines"
   ]
  },
  {
   "cell_type": "code",
   "execution_count": 98,
   "id": "8028039d",
   "metadata": {},
   "outputs": [],
   "source": [
    "#import median\n",
    "from statistics import median"
   ]
  },
  {
   "cell_type": "code",
   "execution_count": 53,
   "id": "b4bd1729",
   "metadata": {},
   "outputs": [],
   "source": [
    "#define new points dictionary\n",
    "points_new = {')':1, ']':2, '}':3, '>':4}"
   ]
  },
  {
   "cell_type": "code",
   "execution_count": 102,
   "id": "7d37d177",
   "metadata": {},
   "outputs": [
    {
     "data": {
      "text/plain": [
       "3049320156"
      ]
     },
     "execution_count": 102,
     "metadata": {},
     "output_type": "execute_result"
    }
   ],
   "source": [
    "#search for corrupted lines\n",
    "point_list = [] #initialize empty point list for incomplete lines\n",
    "\n",
    "#loop through lines and symbols\n",
    "for lines in data:\n",
    "    line_total = 0 #initialize total\n",
    "    need = [] #list to track needed closures\n",
    "    for symbol in lines:\n",
    "        corrupt = False #set corrupt so we only record incomplete lines\n",
    "        if symbol in dictionary.keys():\n",
    "            need.append(dictionary[symbol]) #add to need if the opening is found\n",
    "        elif symbol == need[-1]: #matches what's needed\n",
    "            need.pop(-1)\n",
    "        elif symbol != need[-1]: #corrupt line so we don't include it\n",
    "            corrupt = True\n",
    "            break\n",
    "     \n",
    "    if corrupt == False:\n",
    "        need.reverse() #reverse the list to calculate points correctly\n",
    "        for j in range(len(need)):\n",
    "            line_total = 5*line_total + points_new[need[j]] #calculate value for symbol\n",
    "        point_list.append(line_total)\n",
    "\n",
    "#see the answer\n",
    "median(point_list)\n"
   ]
  }
 ],
 "metadata": {
  "kernelspec": {
   "display_name": "Python 3 (ipykernel)",
   "language": "python",
   "name": "python3"
  },
  "language_info": {
   "codemirror_mode": {
    "name": "ipython",
    "version": 3
   },
   "file_extension": ".py",
   "mimetype": "text/x-python",
   "name": "python",
   "nbconvert_exporter": "python",
   "pygments_lexer": "ipython3",
   "version": "3.9.7"
  }
 },
 "nbformat": 4,
 "nbformat_minor": 5
}
